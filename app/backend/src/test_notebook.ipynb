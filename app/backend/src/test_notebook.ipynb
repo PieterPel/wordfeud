{
 "cells": [
  {
   "cell_type": "markdown",
   "metadata": {},
   "source": [
    "# Test notebook"
   ]
  },
  {
   "cell_type": "markdown",
   "metadata": {},
   "source": [
    "## Import everything"
   ]
  },
  {
   "cell_type": "code",
   "execution_count": 16,
   "metadata": {},
   "outputs": [
    {
     "ename": "FileNotFoundError",
     "evalue": "[Errno 2] No such file or directory: 'c:\\\\Users\\\\pelpi\\\\Documents\\\\VSCode repositories\\\\wordfeud\\\\app\\\\backend\\\\src/wordlists/wordlist-edited.txt'",
     "output_type": "error",
     "traceback": [
      "\u001b[1;31m---------------------------------------------------------------------------\u001b[0m",
      "\u001b[1;31mFileNotFoundError\u001b[0m                         Traceback (most recent call last)",
      "Cell \u001b[1;32mIn[16], line 1\u001b[0m\n\u001b[1;32m----> 1\u001b[0m \u001b[38;5;28;01mfrom\u001b[39;00m \u001b[38;5;21;01mGame\u001b[39;00m \u001b[38;5;28;01mimport\u001b[39;00m Game\n\u001b[0;32m      2\u001b[0m \u001b[38;5;28;01mfrom\u001b[39;00m \u001b[38;5;21;01mBoard\u001b[39;00m \u001b[38;5;28;01mimport\u001b[39;00m Board\n\u001b[0;32m      3\u001b[0m \u001b[38;5;28;01mfrom\u001b[39;00m \u001b[38;5;21;01mRound\u001b[39;00m \u001b[38;5;28;01mimport\u001b[39;00m Round\n",
      "File \u001b[1;32mc:\\Users\\pelpi\\Documents\\VSCode repositories\\wordfeud\\app\\backend\\src\\Game.py:2\u001b[0m\n\u001b[0;32m      1\u001b[0m \u001b[38;5;28;01mfrom\u001b[39;00m \u001b[38;5;21;01mPile\u001b[39;00m \u001b[38;5;28;01mimport\u001b[39;00m Pile\n\u001b[1;32m----> 2\u001b[0m \u001b[38;5;28;01mfrom\u001b[39;00m \u001b[38;5;21;01mBoard\u001b[39;00m \u001b[38;5;28;01mimport\u001b[39;00m Board\n\u001b[0;32m      3\u001b[0m \u001b[38;5;28;01mfrom\u001b[39;00m \u001b[38;5;21;01mRound\u001b[39;00m \u001b[38;5;28;01mimport\u001b[39;00m Round\n\u001b[0;32m      4\u001b[0m \u001b[38;5;28;01mfrom\u001b[39;00m \u001b[38;5;21;01mEngine\u001b[39;00m \u001b[38;5;28;01mimport\u001b[39;00m Engine\n",
      "File \u001b[1;32mc:\\Users\\pelpi\\Documents\\VSCode repositories\\wordfeud\\app\\backend\\src\\Board.py:50\u001b[0m\n\u001b[0;32m     46\u001b[0m             word_set\u001b[38;5;241m.\u001b[39madd(word[:\u001b[38;5;241m-\u001b[39m\u001b[38;5;241m1\u001b[39m]\u001b[38;5;241m.\u001b[39mupper())  \u001b[38;5;66;03m# Remove \"\\n\"\u001b[39;00m\n\u001b[0;32m     47\u001b[0m     \u001b[38;5;28;01mreturn\u001b[39;00m word_set\n\u001b[1;32m---> 50\u001b[0m \u001b[38;5;28;43;01mclass\u001b[39;49;00m\u001b[43m \u001b[49m\u001b[38;5;21;43;01mBoard\u001b[39;49;00m\u001b[43m:\u001b[49m\n\u001b[0;32m     51\u001b[0m \u001b[38;5;250;43m    \u001b[39;49m\u001b[38;5;124;43;03m\"\"\"\u001b[39;49;00m\n\u001b[0;32m     52\u001b[0m \u001b[38;5;124;43;03m    Represents the game board.\u001b[39;49;00m\n\u001b[0;32m     53\u001b[0m \u001b[38;5;124;43;03m    \"\"\"\u001b[39;49;00m\n\u001b[0;32m     55\u001b[0m \u001b[43m    \u001b[49m\u001b[43mHEIGHT\u001b[49m\u001b[43m \u001b[49m\u001b[38;5;241;43m=\u001b[39;49m\u001b[43m \u001b[49m\u001b[38;5;241;43m15\u001b[39;49m\n",
      "File \u001b[1;32mc:\\Users\\pelpi\\Documents\\VSCode repositories\\wordfeud\\app\\backend\\src\\Board.py:58\u001b[0m, in \u001b[0;36mBoard\u001b[1;34m()\u001b[0m\n\u001b[0;32m     56\u001b[0m LENGTH \u001b[38;5;241m=\u001b[39m \u001b[38;5;241m15\u001b[39m\n\u001b[0;32m     57\u001b[0m MIDDLE \u001b[38;5;241m=\u001b[39m (\u001b[38;5;241m7\u001b[39m, \u001b[38;5;241m7\u001b[39m)\n\u001b[1;32m---> 58\u001b[0m WORD_SET \u001b[38;5;241m=\u001b[39m \u001b[43mget_word_set\u001b[49m\u001b[43m(\u001b[49m\u001b[43m)\u001b[49m\n\u001b[0;32m     60\u001b[0m LOC_MULTIPLIERS \u001b[38;5;241m=\u001b[39m {\n\u001b[0;32m     61\u001b[0m     \u001b[38;5;66;03m# Bottom left quadrant\u001b[39;00m\n\u001b[0;32m     62\u001b[0m     (\u001b[38;5;241m0\u001b[39m, \u001b[38;5;241m0\u001b[39m): \u001b[38;5;124m\"\u001b[39m\u001b[38;5;124m3L\u001b[39m\u001b[38;5;124m\"\u001b[39m,\n\u001b[1;32m   (...)\u001b[0m\n\u001b[0;32m    129\u001b[0m     (\u001b[38;5;241m11\u001b[39m, \u001b[38;5;241m7\u001b[39m): \u001b[38;5;124m\"\u001b[39m\u001b[38;5;124m2W\u001b[39m\u001b[38;5;124m\"\u001b[39m,\n\u001b[0;32m    130\u001b[0m }\n\u001b[0;32m    132\u001b[0m \u001b[38;5;28;01mdef\u001b[39;00m \u001b[38;5;21m__init__\u001b[39m(\u001b[38;5;28mself\u001b[39m):\n",
      "File \u001b[1;32mc:\\Users\\pelpi\\Documents\\VSCode repositories\\wordfeud\\app\\backend\\src\\Board.py:42\u001b[0m, in \u001b[0;36mget_word_set\u001b[1;34m()\u001b[0m\n\u001b[0;32m     40\u001b[0m \u001b[38;5;28;01mdef\u001b[39;00m \u001b[38;5;21mget_word_set\u001b[39m():\n\u001b[0;32m     41\u001b[0m     word_set \u001b[38;5;241m=\u001b[39m \u001b[38;5;28mset\u001b[39m()\n\u001b[1;32m---> 42\u001b[0m     \u001b[38;5;28;01mwith\u001b[39;00m \u001b[38;5;28;43mopen\u001b[39;49m\u001b[43m(\u001b[49m\n\u001b[0;32m     43\u001b[0m \u001b[43m        \u001b[49m\u001b[38;5;124;43mf\u001b[39;49m\u001b[38;5;124;43m\"\u001b[39;49m\u001b[38;5;132;43;01m{\u001b[39;49;00m\u001b[43mos\u001b[49m\u001b[38;5;241;43m.\u001b[39;49m\u001b[43mgetcwd\u001b[49m\u001b[43m(\u001b[49m\u001b[43m)\u001b[49m\u001b[38;5;132;43;01m}\u001b[39;49;00m\u001b[38;5;124;43m/wordlists/wordlist-edited.txt\u001b[39;49m\u001b[38;5;124;43m\"\u001b[39;49m\u001b[43m,\u001b[49m\u001b[43m \u001b[49m\u001b[38;5;124;43m\"\u001b[39;49m\u001b[38;5;124;43mr\u001b[39;49m\u001b[38;5;124;43m\"\u001b[39;49m\n\u001b[0;32m     44\u001b[0m \u001b[43m    \u001b[49m\u001b[43m)\u001b[49m \u001b[38;5;28;01mas\u001b[39;00m word_list:\n\u001b[0;32m     45\u001b[0m         \u001b[38;5;28;01mfor\u001b[39;00m word \u001b[38;5;129;01min\u001b[39;00m word_list:\n\u001b[0;32m     46\u001b[0m             word_set\u001b[38;5;241m.\u001b[39madd(word[:\u001b[38;5;241m-\u001b[39m\u001b[38;5;241m1\u001b[39m]\u001b[38;5;241m.\u001b[39mupper())  \u001b[38;5;66;03m# Remove \"\\n\"\u001b[39;00m\n",
      "\u001b[1;31mFileNotFoundError\u001b[0m: [Errno 2] No such file or directory: 'c:\\\\Users\\\\pelpi\\\\Documents\\\\VSCode repositories\\\\wordfeud\\\\app\\\\backend\\\\src/wordlists/wordlist-edited.txt'"
     ]
    }
   ],
   "source": [
    "from Game import Game\n",
    "from Board import Board\n",
    "from Round import Round\n",
    "from Pile import Pile\n",
    "from Tile import Tile\n",
    "from Cell import Cell\n",
    "from Player import Player\n",
    "from Plank import Plank"
   ]
  },
  {
   "cell_type": "markdown",
   "metadata": {},
   "source": [
    "## Player"
   ]
  },
  {
   "cell_type": "code",
   "execution_count": 1,
   "metadata": {},
   "outputs": [
    {
     "ename": "NameError",
     "evalue": "name 'Player' is not defined",
     "output_type": "error",
     "traceback": [
      "\u001b[1;31m---------------------------------------------------------------------------\u001b[0m",
      "\u001b[1;31mNameError\u001b[0m                                 Traceback (most recent call last)",
      "Cell \u001b[1;32mIn[1], line 1\u001b[0m\n\u001b[1;32m----> 1\u001b[0m player \u001b[38;5;241m=\u001b[39m \u001b[43mPlayer\u001b[49m(\u001b[38;5;124m'\u001b[39m\u001b[38;5;124mpete\u001b[39m\u001b[38;5;124m'\u001b[39m)\n\u001b[0;32m      2\u001b[0m player\u001b[38;5;241m.\u001b[39mlaying \u001b[38;5;241m=\u001b[39m \u001b[38;5;28;01mTrue\u001b[39;00m\n\u001b[0;32m      3\u001b[0m tile \u001b[38;5;241m=\u001b[39m Tile(\u001b[38;5;124m'\u001b[39m\u001b[38;5;124mB\u001b[39m\u001b[38;5;124m'\u001b[39m, \u001b[38;5;241m4\u001b[39m)\n",
      "\u001b[1;31mNameError\u001b[0m: name 'Player' is not defined"
     ]
    }
   ],
   "source": [
    "player = Player('pete')\n",
    "player.laying = True\n",
    "tile = Tile('B', 4)\n",
    "player.select_tile(tile)\n",
    "player.put_tile_on_plank(player.select_tile)\n",
    "player.selected_tile\n",
    "\n",
    "player.plank.full\n"
   ]
  },
  {
   "cell_type": "code",
   "execution_count": 14,
   "metadata": {},
   "outputs": [
    {
     "ename": "TypeError",
     "evalue": "Test.test() missing 1 required positional argument: 'x'",
     "output_type": "error",
     "traceback": [
      "\u001b[1;31m---------------------------------------------------------------------------\u001b[0m",
      "\u001b[1;31mTypeError\u001b[0m                                 Traceback (most recent call last)",
      "Cell \u001b[1;32mIn[14], line 11\u001b[0m\n\u001b[0;32m      9\u001b[0m a \u001b[38;5;241m=\u001b[39m Test()\n\u001b[0;32m     10\u001b[0m f \u001b[38;5;241m=\u001b[39m testt\n\u001b[1;32m---> 11\u001b[0m g \u001b[38;5;241m=\u001b[39m \u001b[43mTest\u001b[49m\u001b[38;5;241;43m.\u001b[39;49m\u001b[43mtest\u001b[49m\u001b[43m(\u001b[49m\u001b[43ma\u001b[49m\u001b[43m)\u001b[49m\n\u001b[0;32m     12\u001b[0m \u001b[38;5;66;03m#f()\u001b[39;00m\n\u001b[0;32m     13\u001b[0m g(x\u001b[38;5;241m=\u001b[39m\u001b[38;5;241m1\u001b[39m)\n",
      "\u001b[1;31mTypeError\u001b[0m: Test.test() missing 1 required positional argument: 'x'"
     ]
    }
   ],
   "source": [
    "class Test:\n",
    "\n",
    "    def test(self, x):\n",
    "        return x\n",
    "\n",
    "def testt():\n",
    "    return 'test'\n",
    "\n",
    "a = Test()\n",
    "f = testt\n",
    "g = Test.test(a)\n",
    "#f()\n",
    "g(x=1)"
   ]
  },
  {
   "cell_type": "markdown",
   "metadata": {},
   "source": [
    "## Board"
   ]
  },
  {
   "cell_type": "code",
   "execution_count": 7,
   "metadata": {},
   "outputs": [
    {
     "data": {
      "text/plain": [
       "'B₄'"
      ]
     },
     "execution_count": 7,
     "metadata": {},
     "output_type": "execute_result"
    }
   ],
   "source": [
    "board = Board()\n",
    "\n",
    "tile = Tile('B', 4)\n",
    "board[0, 0].tile = tile\n",
    "str(board[0,0])\n"
   ]
  },
  {
   "cell_type": "code",
   "execution_count": 2,
   "metadata": {},
   "outputs": [
    {
     "name": "stdout",
     "output_type": "stream",
     "text": [
      "Beginning game!\n"
     ]
    }
   ],
   "source": []
  },
  {
   "cell_type": "markdown",
   "metadata": {},
   "source": [
    "## Cell"
   ]
  },
  {
   "cell_type": "code",
   "execution_count": 67,
   "metadata": {},
   "outputs": [
    {
     "ename": "AttributeError",
     "evalue": "property 'x' of 'Cell' object has no setter",
     "output_type": "error",
     "traceback": [
      "\u001b[1;31m---------------------------------------------------------------------------\u001b[0m",
      "\u001b[1;31mAttributeError\u001b[0m                            Traceback (most recent call last)",
      "Cell \u001b[1;32mIn[67], line 2\u001b[0m\n\u001b[0;32m      1\u001b[0m cell \u001b[38;5;241m=\u001b[39m Cell(\u001b[38;5;241m0\u001b[39m, \u001b[38;5;241m0\u001b[39m, \u001b[38;5;124m'\u001b[39m\u001b[38;5;124m'\u001b[39m)\n\u001b[1;32m----> 2\u001b[0m \u001b[43mcell\u001b[49m\u001b[38;5;241;43m.\u001b[39;49m\u001b[43mx\u001b[49m \u001b[38;5;241m=\u001b[39m \u001b[38;5;241m5\u001b[39m\n",
      "\u001b[1;31mAttributeError\u001b[0m: property 'x' of 'Cell' object has no setter"
     ]
    }
   ],
   "source": [
    "cell = Cell(0, 0, '')\n",
    "cell.x = 5"
   ]
  },
  {
   "cell_type": "markdown",
   "metadata": {},
   "source": [
    "## Plank"
   ]
  },
  {
   "cell_type": "code",
   "execution_count": 80,
   "metadata": {},
   "outputs": [
    {
     "data": {
      "text/plain": [
       "False"
      ]
     },
     "execution_count": 80,
     "metadata": {},
     "output_type": "execute_result"
    }
   ],
   "source": [
    "plank = Plank()\n",
    "plank.full"
   ]
  },
  {
   "cell_type": "code",
   "execution_count": 1,
   "metadata": {},
   "outputs": [
    {
     "data": {
      "text/plain": [
       "False"
      ]
     },
     "execution_count": 1,
     "metadata": {},
     "output_type": "execute_result"
    }
   ],
   "source": [
    "def checkConsecutive(l):\n",
    "    return sorted(l) == list(range(min(l), max(l)+1))\n",
    "\n",
    "checkConsecutive([1, 1])"
   ]
  },
  {
   "cell_type": "markdown",
   "metadata": {},
   "source": [
    "## Game"
   ]
  },
  {
   "cell_type": "code",
   "execution_count": 11,
   "metadata": {},
   "outputs": [
    {
     "name": "stdout",
     "output_type": "stream",
     "text": [
      "Beginning game!\n",
      "['BACKGROUND_COLOR', 'BORDER_COLOR', 'BORDER_WIDTH', 'CELL_SIZE', 'FONT', 'GAP_SIZE', 'HEIGHT', 'HIGHLIGHT_COLOR', 'TEXT_COLOR', 'WIDTH', '__class__', '__delattr__', '__dict__', '__dir__', '__doc__', '__eq__', '__format__', '__ge__', '__getattribute__', '__getstate__', '__gt__', '__hash__', '__init__', '__init_subclass__', '__le__', '__lt__', '__module__', '__ne__', '__new__', '__reduce__', '__reduce_ex__', '__repr__', '__setattr__', '__sizeof__', '__str__', '__subclasshook__', '__weakref__', 'board', 'coordinates_empty_cells', 'draw_aux', 'draw_board', 'draw_buttons', 'draw_current_move', 'draw_plank', 'empty_tiles_on_pank_index', 'game', 'reset_dicts', 'screen', 'tile_rects']\n"
     ]
    },
    {
     "ename": "AttributeError",
     "evalue": "'GameDrawer' object has no attribute 'draw_all'",
     "output_type": "error",
     "traceback": [
      "\u001b[1;31m---------------------------------------------------------------------------\u001b[0m",
      "\u001b[1;31mAttributeError\u001b[0m                            Traceback (most recent call last)",
      "Cell \u001b[1;32mIn[11], line 10\u001b[0m\n\u001b[0;32m      7\u001b[0m tile \u001b[38;5;241m=\u001b[39m Tile(\u001b[38;5;124m'\u001b[39m\u001b[38;5;124mB\u001b[39m\u001b[38;5;124m'\u001b[39m, \u001b[38;5;241m4\u001b[39m)\n\u001b[0;32m      8\u001b[0m board[\u001b[38;5;241m0\u001b[39m, \u001b[38;5;241m1\u001b[39m]\u001b[38;5;241m.\u001b[39mtile \u001b[38;5;241m=\u001b[39m tile\n\u001b[1;32m---> 10\u001b[0m \u001b[43mgame\u001b[49m\u001b[38;5;241;43m.\u001b[39;49m\u001b[43mbegin_game\u001b[49m\u001b[43m(\u001b[49m\u001b[43m)\u001b[49m\n",
      "File \u001b[1;32mc:\\Users\\pelpi\\Documents\\VSCode repositories\\wordfeud\\app\\backend\\src\\Game.py:94\u001b[0m, in \u001b[0;36mGame.begin_game\u001b[1;34m(self)\u001b[0m\n\u001b[0;32m     87\u001b[0m                 shown_player\u001b[38;5;241m.\u001b[39mput_tile_on_plank(\n\u001b[0;32m     88\u001b[0m                     shown_player\u001b[38;5;241m.\u001b[39mselected_tile, index\n\u001b[0;32m     89\u001b[0m                 )\n\u001b[0;32m     91\u001b[0m         \u001b[38;5;66;03m# Check if a button has been clicked on\u001b[39;00m\n\u001b[0;32m     92\u001b[0m \n\u001b[0;32m     93\u001b[0m     \u001b[38;5;66;03m# Maybe return the elements that are drawn here, so the mouse can pick it up?\u001b[39;00m\n\u001b[1;32m---> 94\u001b[0m     \u001b[43mdrawer\u001b[49m\u001b[38;5;241;43m.\u001b[39;49m\u001b[43mdraw_all\u001b[49m(shown_player)\n\u001b[0;32m     95\u001b[0m     \u001b[38;5;66;03m# drawer.draw_board()\u001b[39;00m\n\u001b[0;32m     96\u001b[0m     \u001b[38;5;66;03m# drawer.draw_plank(shown_player)\u001b[39;00m\n\u001b[0;32m     97\u001b[0m     \u001b[38;5;66;03m# drawer.draw_current_move(shown_player)\u001b[39;00m\n\u001b[1;32m   (...)\u001b[0m\n\u001b[0;32m    100\u001b[0m \n\u001b[0;32m    101\u001b[0m \u001b[38;5;66;03m# Update the display\u001b[39;00m\n\u001b[0;32m    102\u001b[0m pygame\u001b[38;5;241m.\u001b[39mdisplay\u001b[38;5;241m.\u001b[39mflip()\n",
      "\u001b[1;31mAttributeError\u001b[0m: 'GameDrawer' object has no attribute 'draw_all'"
     ]
    },
    {
     "ename": "",
     "evalue": "",
     "output_type": "error",
     "traceback": [
      "\u001b[1;31mThe Kernel crashed while executing code in the the current cell or a previous cell. Please review the code in the cell(s) to identify a possible cause of the failure. Click <a href='https://aka.ms/vscodeJupyterKernelCrash'>here</a> for more info. View Jupyter <a href='command:jupyter.viewOutput'>log</a> for further details."
     ]
    }
   ],
   "source": [
    "# Create a Player instance\n",
    "player = Player('pete')\n",
    "\n",
    "# Create a Game instance\n",
    "game = Game([player])\n",
    "board = game.board\n",
    "tile = Tile('B', 4)\n",
    "board[0, 1].tile = tile\n",
    "\n",
    "game.begin_game()"
   ]
  },
  {
   "cell_type": "markdown",
   "metadata": {},
   "source": [
    "## Trie"
   ]
  },
  {
   "cell_type": "code",
   "execution_count": 10,
   "metadata": {},
   "outputs": [
    {
     "name": "stdout",
     "output_type": "stream",
     "text": [
      "['', 'a', 'b', 'a', 'b', 'ap', 'ba', 'a', 'b', 'ap', 'ba', 'ap', 'ba', 'ape', 'apl', 'bat']\n",
      "{'a'}\n"
     ]
    }
   ],
   "source": [
    "from Trie import Trie\n",
    "\n",
    "# Create a Trie instance\n",
    "trie = Trie(word_set={\"apple\",\"ap\", \"banana\", \"app\", \"ape\", \"bat\", \"aplebt\"})\n",
    "\n",
    "# Specify maximum length and available letters\n",
    "max_length = 3\n",
    "available_letters = {\"a\", \"p\", \"l\", \"e\", \"b\", \"t\"}\n",
    "\n",
    "# Generate and print prefix combinations\n",
    "prefix_combinations = trie.generate_prefix_combinations(max_length, available_letters)\n",
    "print(prefix_combinations)\n",
    "\n",
    "print(trie.get_children('b'))"
   ]
  },
  {
   "cell_type": "code",
   "execution_count": 7,
   "metadata": {},
   "outputs": [
    {
     "name": "stdout",
     "output_type": "stream",
     "text": [
      "{'b': []}\n"
     ]
    }
   ],
   "source": [
    "a = {'b': []}\n",
    "print(a)"
   ]
  },
  {
   "cell_type": "code",
   "execution_count": 15,
   "metadata": {},
   "outputs": [
    {
     "ename": "NameError",
     "evalue": "name 'Board' is not defined",
     "output_type": "error",
     "traceback": [
      "\u001b[1;31m---------------------------------------------------------------------------\u001b[0m",
      "\u001b[1;31mNameError\u001b[0m                                 Traceback (most recent call last)",
      "Cell \u001b[1;32mIn[15], line 1\u001b[0m\n\u001b[1;32m----> 1\u001b[0m board \u001b[38;5;241m=\u001b[39m \u001b[43mBoard\u001b[49m()\n\u001b[0;32m      2\u001b[0m trie \u001b[38;5;241m=\u001b[39m Trie(board\u001b[38;5;241m.\u001b[39mWORD_SET)\n\u001b[0;32m      4\u001b[0m letters \u001b[38;5;241m=\u001b[39m [\u001b[38;5;124m\"\u001b[39m\u001b[38;5;124ma\u001b[39m\u001b[38;5;124m\"\u001b[39m, \u001b[38;5;124m\"\u001b[39m\u001b[38;5;124mb\u001b[39m\u001b[38;5;124m\"\u001b[39m, \u001b[38;5;124m\"\u001b[39m\u001b[38;5;124mc\u001b[39m\u001b[38;5;124m\"\u001b[39m]\n",
      "\u001b[1;31mNameError\u001b[0m: name 'Board' is not defined"
     ]
    }
   ],
   "source": [
    "board = Board()\n",
    "trie = Trie(board.WORD_SET)\n",
    "\n",
    "letters = [\"a\", \"b\", \"c\"]\n",
    "\n",
    "trie.generate_prefix_combinations(3, letters)"
   ]
  },
  {
   "cell_type": "code",
   "execution_count": 14,
   "metadata": {},
   "outputs": [
    {
     "data": {
      "text/plain": [
       "{''}"
      ]
     },
     "execution_count": 14,
     "metadata": {},
     "output_type": "execute_result"
    }
   ],
   "source": [
    "a = {''}\n",
    "a"
   ]
  }
 ],
 "metadata": {
  "kernelspec": {
   "display_name": ".venv",
   "language": "python",
   "name": "python3"
  },
  "language_info": {
   "codemirror_mode": {
    "name": "ipython",
    "version": 3
   },
   "file_extension": ".py",
   "mimetype": "text/x-python",
   "name": "python",
   "nbconvert_exporter": "python",
   "pygments_lexer": "ipython3",
   "version": "3.11.2"
  }
 },
 "nbformat": 4,
 "nbformat_minor": 2
}
