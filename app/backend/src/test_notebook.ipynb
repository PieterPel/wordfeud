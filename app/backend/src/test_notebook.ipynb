{
 "cells": [
  {
   "cell_type": "markdown",
   "metadata": {},
   "source": [
    "# Test notebook"
   ]
  },
  {
   "cell_type": "markdown",
   "metadata": {},
   "source": [
    "## Import everything"
   ]
  },
  {
   "cell_type": "code",
   "execution_count": 3,
   "metadata": {},
   "outputs": [
    {
     "ename": "ImportError",
     "evalue": "cannot import name 'CurrentMoveDrawer' from 'CurrentMoveDrawer' (c:\\Users\\pelpi\\Documents\\VSCode repositories\\wordfeud\\.venv\\Lib\\site-packages\\CurrentMoveDrawer.py)",
     "output_type": "error",
     "traceback": [
      "\u001b[1;31m---------------------------------------------------------------------------\u001b[0m",
      "\u001b[1;31mImportError\u001b[0m                               Traceback (most recent call last)",
      "Cell \u001b[1;32mIn[3], line 1\u001b[0m\n\u001b[1;32m----> 1\u001b[0m \u001b[38;5;28;01mfrom\u001b[39;00m \u001b[38;5;21;01mGame\u001b[39;00m \u001b[38;5;28;01mimport\u001b[39;00m Game\n\u001b[0;32m      2\u001b[0m \u001b[38;5;28;01mfrom\u001b[39;00m \u001b[38;5;21;01mBoard\u001b[39;00m \u001b[38;5;28;01mimport\u001b[39;00m Board\n\u001b[0;32m      3\u001b[0m \u001b[38;5;28;01mfrom\u001b[39;00m \u001b[38;5;21;01mRound\u001b[39;00m \u001b[38;5;28;01mimport\u001b[39;00m Round\n",
      "File \u001b[1;32mc:\\Users\\pelpi\\Documents\\VSCode repositories\\wordfeud\\app\\backend\\src\\Game.py:1\u001b[0m\n\u001b[1;32m----> 1\u001b[0m \u001b[38;5;28;01mfrom\u001b[39;00m \u001b[38;5;21;01mGameDrawer\u001b[39;00m \u001b[38;5;28;01mimport\u001b[39;00m GameDrawer\n\u001b[0;32m      3\u001b[0m \u001b[38;5;28;01mfrom\u001b[39;00m \u001b[38;5;21;01mPile\u001b[39;00m \u001b[38;5;28;01mimport\u001b[39;00m Pile\n\u001b[0;32m      4\u001b[0m \u001b[38;5;28;01mfrom\u001b[39;00m \u001b[38;5;21;01mBoard\u001b[39;00m \u001b[38;5;28;01mimport\u001b[39;00m Board\n",
      "File \u001b[1;32mc:\\Users\\pelpi\\Documents\\VSCode repositories\\wordfeud\\.venv\\Lib\\site-packages\\GameDrawer.py:6\u001b[0m\n\u001b[0;32m      4\u001b[0m \u001b[38;5;28;01mfrom\u001b[39;00m \u001b[38;5;21;01mBoardDrawer\u001b[39;00m \u001b[38;5;28;01mimport\u001b[39;00m BoardDrawer\n\u001b[0;32m      5\u001b[0m \u001b[38;5;28;01mfrom\u001b[39;00m \u001b[38;5;21;01mPlankDrawer\u001b[39;00m \u001b[38;5;28;01mimport\u001b[39;00m PlankDrawer\n\u001b[1;32m----> 6\u001b[0m \u001b[38;5;28;01mfrom\u001b[39;00m \u001b[38;5;21;01mCurrentMoveDrawer\u001b[39;00m \u001b[38;5;28;01mimport\u001b[39;00m CurrentMoveDrawer\n\u001b[0;32m      7\u001b[0m \u001b[38;5;28;01mfrom\u001b[39;00m \u001b[38;5;21;01mButtonDrawer\u001b[39;00m \u001b[38;5;28;01mimport\u001b[39;00m ButtonDrawer\n\u001b[0;32m      8\u001b[0m \u001b[38;5;28;01mfrom\u001b[39;00m \u001b[38;5;21;01mOtherDrawer\u001b[39;00m \u001b[38;5;28;01mimport\u001b[39;00m OtherDrawer\n",
      "\u001b[1;31mImportError\u001b[0m: cannot import name 'CurrentMoveDrawer' from 'CurrentMoveDrawer' (c:\\Users\\pelpi\\Documents\\VSCode repositories\\wordfeud\\.venv\\Lib\\site-packages\\CurrentMoveDrawer.py)"
     ]
    }
   ],
   "source": [
    "from Game import Game\n",
    "from Board import Board\n",
    "from Round import Round\n",
    "from Pile import Pile\n",
    "from Tile import Tile\n",
    "from Cell import Cell\n",
    "from Player import Player\n",
    "from Plank import Plank"
   ]
  },
  {
   "cell_type": "markdown",
   "metadata": {},
   "source": [
    "## Player"
   ]
  },
  {
   "cell_type": "code",
   "execution_count": 1,
   "metadata": {},
   "outputs": [
    {
     "ename": "NameError",
     "evalue": "name 'Player' is not defined",
     "output_type": "error",
     "traceback": [
      "\u001b[1;31m---------------------------------------------------------------------------\u001b[0m",
      "\u001b[1;31mNameError\u001b[0m                                 Traceback (most recent call last)",
      "Cell \u001b[1;32mIn[1], line 1\u001b[0m\n\u001b[1;32m----> 1\u001b[0m player \u001b[38;5;241m=\u001b[39m \u001b[43mPlayer\u001b[49m(\u001b[38;5;124m'\u001b[39m\u001b[38;5;124mpete\u001b[39m\u001b[38;5;124m'\u001b[39m)\n\u001b[0;32m      2\u001b[0m player\u001b[38;5;241m.\u001b[39mlaying \u001b[38;5;241m=\u001b[39m \u001b[38;5;28;01mTrue\u001b[39;00m\n\u001b[0;32m      3\u001b[0m tile \u001b[38;5;241m=\u001b[39m Tile(\u001b[38;5;124m'\u001b[39m\u001b[38;5;124mB\u001b[39m\u001b[38;5;124m'\u001b[39m, \u001b[38;5;241m4\u001b[39m)\n",
      "\u001b[1;31mNameError\u001b[0m: name 'Player' is not defined"
     ]
    }
   ],
   "source": [
    "player = Player('pete')\n",
    "player.laying = True\n",
    "tile = Tile('B', 4)\n",
    "player.select_tile(tile)\n",
    "player.put_tile_on_plank(player.select_tile)\n",
    "player.selected_tile\n",
    "\n",
    "player.plank.full\n"
   ]
  },
  {
   "cell_type": "markdown",
   "metadata": {},
   "source": [
    "## Board"
   ]
  },
  {
   "cell_type": "code",
   "execution_count": 7,
   "metadata": {},
   "outputs": [
    {
     "data": {
      "text/plain": [
       "'B₄'"
      ]
     },
     "execution_count": 7,
     "metadata": {},
     "output_type": "execute_result"
    }
   ],
   "source": [
    "board = Board()\n",
    "\n",
    "tile = Tile('B', 4)\n",
    "board[0, 0].tile = tile\n",
    "str(board[0,0])\n"
   ]
  },
  {
   "cell_type": "code",
   "execution_count": 2,
   "metadata": {},
   "outputs": [
    {
     "name": "stdout",
     "output_type": "stream",
     "text": [
      "Beginning game!\n"
     ]
    }
   ],
   "source": []
  },
  {
   "cell_type": "markdown",
   "metadata": {},
   "source": [
    "## Cell"
   ]
  },
  {
   "cell_type": "code",
   "execution_count": 67,
   "metadata": {},
   "outputs": [
    {
     "ename": "AttributeError",
     "evalue": "property 'x' of 'Cell' object has no setter",
     "output_type": "error",
     "traceback": [
      "\u001b[1;31m---------------------------------------------------------------------------\u001b[0m",
      "\u001b[1;31mAttributeError\u001b[0m                            Traceback (most recent call last)",
      "Cell \u001b[1;32mIn[67], line 2\u001b[0m\n\u001b[0;32m      1\u001b[0m cell \u001b[38;5;241m=\u001b[39m Cell(\u001b[38;5;241m0\u001b[39m, \u001b[38;5;241m0\u001b[39m, \u001b[38;5;124m'\u001b[39m\u001b[38;5;124m'\u001b[39m)\n\u001b[1;32m----> 2\u001b[0m \u001b[43mcell\u001b[49m\u001b[38;5;241;43m.\u001b[39;49m\u001b[43mx\u001b[49m \u001b[38;5;241m=\u001b[39m \u001b[38;5;241m5\u001b[39m\n",
      "\u001b[1;31mAttributeError\u001b[0m: property 'x' of 'Cell' object has no setter"
     ]
    }
   ],
   "source": [
    "cell = Cell(0, 0, '')\n",
    "cell.x = 5"
   ]
  },
  {
   "cell_type": "markdown",
   "metadata": {},
   "source": [
    "## Plank"
   ]
  },
  {
   "cell_type": "code",
   "execution_count": 80,
   "metadata": {},
   "outputs": [
    {
     "data": {
      "text/plain": [
       "False"
      ]
     },
     "execution_count": 80,
     "metadata": {},
     "output_type": "execute_result"
    }
   ],
   "source": [
    "plank = Plank()\n",
    "plank.full"
   ]
  },
  {
   "cell_type": "code",
   "execution_count": 1,
   "metadata": {},
   "outputs": [
    {
     "data": {
      "text/plain": [
       "False"
      ]
     },
     "execution_count": 1,
     "metadata": {},
     "output_type": "execute_result"
    }
   ],
   "source": [
    "def checkConsecutive(l):\n",
    "    return sorted(l) == list(range(min(l), max(l)+1))\n",
    "\n",
    "checkConsecutive([1, 1])"
   ]
  },
  {
   "cell_type": "markdown",
   "metadata": {},
   "source": [
    "## Game"
   ]
  },
  {
   "cell_type": "code",
   "execution_count": 11,
   "metadata": {},
   "outputs": [
    {
     "name": "stdout",
     "output_type": "stream",
     "text": [
      "Beginning game!\n",
      "['BACKGROUND_COLOR', 'BORDER_COLOR', 'BORDER_WIDTH', 'CELL_SIZE', 'FONT', 'GAP_SIZE', 'HEIGHT', 'HIGHLIGHT_COLOR', 'TEXT_COLOR', 'WIDTH', '__class__', '__delattr__', '__dict__', '__dir__', '__doc__', '__eq__', '__format__', '__ge__', '__getattribute__', '__getstate__', '__gt__', '__hash__', '__init__', '__init_subclass__', '__le__', '__lt__', '__module__', '__ne__', '__new__', '__reduce__', '__reduce_ex__', '__repr__', '__setattr__', '__sizeof__', '__str__', '__subclasshook__', '__weakref__', 'board', 'coordinates_empty_cells', 'draw_aux', 'draw_board', 'draw_buttons', 'draw_current_move', 'draw_plank', 'empty_tiles_on_pank_index', 'game', 'reset_dicts', 'screen', 'tile_rects']\n"
     ]
    },
    {
     "ename": "AttributeError",
     "evalue": "'GameDrawer' object has no attribute 'draw_all'",
     "output_type": "error",
     "traceback": [
      "\u001b[1;31m---------------------------------------------------------------------------\u001b[0m",
      "\u001b[1;31mAttributeError\u001b[0m                            Traceback (most recent call last)",
      "Cell \u001b[1;32mIn[11], line 10\u001b[0m\n\u001b[0;32m      7\u001b[0m tile \u001b[38;5;241m=\u001b[39m Tile(\u001b[38;5;124m'\u001b[39m\u001b[38;5;124mB\u001b[39m\u001b[38;5;124m'\u001b[39m, \u001b[38;5;241m4\u001b[39m)\n\u001b[0;32m      8\u001b[0m board[\u001b[38;5;241m0\u001b[39m, \u001b[38;5;241m1\u001b[39m]\u001b[38;5;241m.\u001b[39mtile \u001b[38;5;241m=\u001b[39m tile\n\u001b[1;32m---> 10\u001b[0m \u001b[43mgame\u001b[49m\u001b[38;5;241;43m.\u001b[39;49m\u001b[43mbegin_game\u001b[49m\u001b[43m(\u001b[49m\u001b[43m)\u001b[49m\n",
      "File \u001b[1;32mc:\\Users\\pelpi\\Documents\\VSCode repositories\\wordfeud\\app\\backend\\src\\Game.py:94\u001b[0m, in \u001b[0;36mGame.begin_game\u001b[1;34m(self)\u001b[0m\n\u001b[0;32m     87\u001b[0m                 shown_player\u001b[38;5;241m.\u001b[39mput_tile_on_plank(\n\u001b[0;32m     88\u001b[0m                     shown_player\u001b[38;5;241m.\u001b[39mselected_tile, index\n\u001b[0;32m     89\u001b[0m                 )\n\u001b[0;32m     91\u001b[0m         \u001b[38;5;66;03m# Check if a button has been clicked on\u001b[39;00m\n\u001b[0;32m     92\u001b[0m \n\u001b[0;32m     93\u001b[0m     \u001b[38;5;66;03m# Maybe return the elements that are drawn here, so the mouse can pick it up?\u001b[39;00m\n\u001b[1;32m---> 94\u001b[0m     \u001b[43mdrawer\u001b[49m\u001b[38;5;241;43m.\u001b[39;49m\u001b[43mdraw_all\u001b[49m(shown_player)\n\u001b[0;32m     95\u001b[0m     \u001b[38;5;66;03m# drawer.draw_board()\u001b[39;00m\n\u001b[0;32m     96\u001b[0m     \u001b[38;5;66;03m# drawer.draw_plank(shown_player)\u001b[39;00m\n\u001b[0;32m     97\u001b[0m     \u001b[38;5;66;03m# drawer.draw_current_move(shown_player)\u001b[39;00m\n\u001b[1;32m   (...)\u001b[0m\n\u001b[0;32m    100\u001b[0m \n\u001b[0;32m    101\u001b[0m \u001b[38;5;66;03m# Update the display\u001b[39;00m\n\u001b[0;32m    102\u001b[0m pygame\u001b[38;5;241m.\u001b[39mdisplay\u001b[38;5;241m.\u001b[39mflip()\n",
      "\u001b[1;31mAttributeError\u001b[0m: 'GameDrawer' object has no attribute 'draw_all'"
     ]
    },
    {
     "ename": "",
     "evalue": "",
     "output_type": "error",
     "traceback": [
      "\u001b[1;31mThe Kernel crashed while executing code in the the current cell or a previous cell. Please review the code in the cell(s) to identify a possible cause of the failure. Click <a href='https://aka.ms/vscodeJupyterKernelCrash'>here</a> for more info. View Jupyter <a href='command:jupyter.viewOutput'>log</a> for further details."
     ]
    }
   ],
   "source": [
    "# Create a Player instance\n",
    "player = Player('pete')\n",
    "\n",
    "# Create a Game instance\n",
    "game = Game([player])\n",
    "board = game.board\n",
    "tile = Tile('B', 4)\n",
    "board[0, 1].tile = tile\n",
    "\n",
    "game.begin_game()"
   ]
  },
  {
   "cell_type": "code",
   "execution_count": 9,
   "metadata": {},
   "outputs": [
    {
     "ename": "RuntimeError",
     "evalue": "The FreeType 2 library hasn't been initialized",
     "output_type": "error",
     "traceback": [
      "\u001b[1;31m---------------------------------------------------------------------------\u001b[0m",
      "\u001b[1;31mRuntimeError\u001b[0m                              Traceback (most recent call last)",
      "Cell \u001b[1;32mIn[9], line 4\u001b[0m\n\u001b[0;32m      2\u001b[0m player \u001b[38;5;241m=\u001b[39m Player(\u001b[38;5;124m'\u001b[39m\u001b[38;5;124mpete\u001b[39m\u001b[38;5;124m'\u001b[39m)\n\u001b[0;32m      3\u001b[0m game \u001b[38;5;241m=\u001b[39m Game([player])\n\u001b[1;32m----> 4\u001b[0m gd \u001b[38;5;241m=\u001b[39m \u001b[43mGameDrawer\u001b[49m\u001b[43m(\u001b[49m\u001b[43mgame\u001b[49m\u001b[43m)\u001b[49m\n",
      "File \u001b[1;32mc:\\Users\\pelpi\\Documents\\VSCode repositories\\wordfeud\\.venv\\Lib\\site-packages\\GameDrawer.py:20\u001b[0m, in \u001b[0;36mGameDrawer.__init__\u001b[1;34m(self, game)\u001b[0m\n\u001b[0;32m     18\u001b[0m \u001b[38;5;28mself\u001b[39m\u001b[38;5;241m.\u001b[39mWIDTH \u001b[38;5;241m=\u001b[39m \u001b[38;5;28mself\u001b[39m\u001b[38;5;241m.\u001b[39mboard\u001b[38;5;241m.\u001b[39mLENGTH \u001b[38;5;241m*\u001b[39m \u001b[38;5;28mself\u001b[39m\u001b[38;5;241m.\u001b[39mCELL_SIZE\n\u001b[0;32m     19\u001b[0m \u001b[38;5;28mself\u001b[39m\u001b[38;5;241m.\u001b[39mHEIGHT \u001b[38;5;241m=\u001b[39m \u001b[38;5;28mself\u001b[39m\u001b[38;5;241m.\u001b[39mboard\u001b[38;5;241m.\u001b[39mHEIGHT \u001b[38;5;241m*\u001b[39m \u001b[38;5;28mself\u001b[39m\u001b[38;5;241m.\u001b[39mCELL_SIZE\n\u001b[1;32m---> 20\u001b[0m \u001b[38;5;28mself\u001b[39m\u001b[38;5;241m.\u001b[39mFONT \u001b[38;5;241m=\u001b[39m \u001b[43mpygame\u001b[49m\u001b[38;5;241;43m.\u001b[39;49m\u001b[43mfreetype\u001b[49m\u001b[38;5;241;43m.\u001b[39;49m\u001b[43mSysFont\u001b[49m\u001b[43m(\u001b[49m\u001b[38;5;124;43m\"\u001b[39;49m\u001b[38;5;124;43mCalibri\u001b[39;49m\u001b[38;5;124;43m\"\u001b[39;49m\u001b[43m,\u001b[49m\u001b[43m \u001b[49m\u001b[38;5;241;43m28\u001b[39;49m\u001b[43m)\u001b[49m\n\u001b[0;32m     21\u001b[0m \u001b[38;5;28mself\u001b[39m\u001b[38;5;241m.\u001b[39mtile_rects \u001b[38;5;241m=\u001b[39m {}\n\u001b[0;32m     22\u001b[0m \u001b[38;5;28mself\u001b[39m\u001b[38;5;241m.\u001b[39mempty_tiles_on_pank_index \u001b[38;5;241m=\u001b[39m {}\n",
      "File \u001b[1;32mc:\\Users\\pelpi\\Documents\\VSCode repositories\\wordfeud\\.venv\\Lib\\site-packages\\pygame\\freetype.py:78\u001b[0m, in \u001b[0;36mSysFont\u001b[1;34m(name, size, bold, italic, constructor)\u001b[0m\n\u001b[0;32m     75\u001b[0m         font\u001b[38;5;241m.\u001b[39moblique \u001b[38;5;241m=\u001b[39m italic\n\u001b[0;32m     76\u001b[0m         \u001b[38;5;28;01mreturn\u001b[39;00m font\n\u001b[1;32m---> 78\u001b[0m \u001b[38;5;28;01mreturn\u001b[39;00m \u001b[43m_SysFont\u001b[49m\u001b[43m(\u001b[49m\u001b[43mname\u001b[49m\u001b[43m,\u001b[49m\u001b[43m \u001b[49m\u001b[43msize\u001b[49m\u001b[43m,\u001b[49m\u001b[43m \u001b[49m\u001b[43mbold\u001b[49m\u001b[43m,\u001b[49m\u001b[43m \u001b[49m\u001b[43mitalic\u001b[49m\u001b[43m,\u001b[49m\u001b[43m \u001b[49m\u001b[43mconstructor\u001b[49m\u001b[43m)\u001b[49m\n",
      "File \u001b[1;32mc:\\Users\\pelpi\\Documents\\VSCode repositories\\wordfeud\\.venv\\Lib\\site-packages\\pygame\\sysfont.py:462\u001b[0m, in \u001b[0;36mSysFont\u001b[1;34m(name, size, bold, italic, constructor)\u001b[0m\n\u001b[0;32m    459\u001b[0m \u001b[38;5;28;01mif\u001b[39;00m italic \u001b[38;5;129;01mand\u001b[39;00m \u001b[38;5;129;01mnot\u001b[39;00m gotitalic:\n\u001b[0;32m    460\u001b[0m     set_italic \u001b[38;5;241m=\u001b[39m \u001b[38;5;28;01mTrue\u001b[39;00m\n\u001b[1;32m--> 462\u001b[0m \u001b[38;5;28;01mreturn\u001b[39;00m \u001b[43mconstructor\u001b[49m\u001b[43m(\u001b[49m\u001b[43mfontname\u001b[49m\u001b[43m,\u001b[49m\u001b[43m \u001b[49m\u001b[43msize\u001b[49m\u001b[43m,\u001b[49m\u001b[43m \u001b[49m\u001b[43mset_bold\u001b[49m\u001b[43m,\u001b[49m\u001b[43m \u001b[49m\u001b[43mset_italic\u001b[49m\u001b[43m)\u001b[49m\n",
      "File \u001b[1;32mc:\\Users\\pelpi\\Documents\\VSCode repositories\\wordfeud\\.venv\\Lib\\site-packages\\pygame\\freetype.py:73\u001b[0m, in \u001b[0;36mSysFont.<locals>.constructor\u001b[1;34m(fontpath, size, bold, italic)\u001b[0m\n\u001b[0;32m     72\u001b[0m \u001b[38;5;28;01mdef\u001b[39;00m \u001b[38;5;21mconstructor\u001b[39m(fontpath, size, bold, italic):\n\u001b[1;32m---> 73\u001b[0m     font \u001b[38;5;241m=\u001b[39m \u001b[43mFont\u001b[49m\u001b[43m(\u001b[49m\u001b[43mfontpath\u001b[49m\u001b[43m,\u001b[49m\u001b[43m \u001b[49m\u001b[43msize\u001b[49m\u001b[43m)\u001b[49m\n\u001b[0;32m     74\u001b[0m     font\u001b[38;5;241m.\u001b[39mstrong \u001b[38;5;241m=\u001b[39m bold\n\u001b[0;32m     75\u001b[0m     font\u001b[38;5;241m.\u001b[39moblique \u001b[38;5;241m=\u001b[39m italic\n",
      "\u001b[1;31mRuntimeError\u001b[0m: The FreeType 2 library hasn't been initialized"
     ]
    }
   ],
   "source": []
  }
 ],
 "metadata": {
  "kernelspec": {
   "display_name": ".venv",
   "language": "python",
   "name": "python3"
  },
  "language_info": {
   "codemirror_mode": {
    "name": "ipython",
    "version": 3
   },
   "file_extension": ".py",
   "mimetype": "text/x-python",
   "name": "python",
   "nbconvert_exporter": "python",
   "pygments_lexer": "ipython3",
   "version": "3.11.2"
  }
 },
 "nbformat": 4,
 "nbformat_minor": 2
}
